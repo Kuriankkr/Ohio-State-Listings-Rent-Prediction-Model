{
 "cells": [
  {
   "cell_type": "code",
   "execution_count": 70,
   "metadata": {},
   "outputs": [],
   "source": [
    "import requests\n",
    "from requests import get\n",
    "from bs4 import BeautifulSoup\n",
    "import pandas as pd\n",
    "import numpy as np\n",
    "import re\n",
    "import urllib.request as ur\n",
    "\n",
    "from time import sleep\n",
    "from random import randint\n",
    "import re\n",
    "\n",
    "import requests\n",
    "from bs4 import BeautifulSoup"
   ]
  },
  {
   "cell_type": "code",
   "execution_count": 71,
   "metadata": {},
   "outputs": [],
   "source": [
    "headers = {\"Accept-Language\": \"en-US, en;q=0.5\"}\n",
    "direction = [\"North\",\"East\",\"West\",\"South\"]\n",
    "pages = np.arange(0,161)"
   ]
  },
  {
   "cell_type": "code",
   "execution_count": 502,
   "metadata": {},
   "outputs": [],
   "source": [
    "location = []\n",
    "beds = []\n",
    "price = []\n",
    "baths = []\n",
    "location_sector = []\n",
    "parking = []\n",
    "laundry = []    \n",
    "furnished = []"
   ]
  },
  {
   "cell_type": "code",
   "execution_count": 505,
   "metadata": {},
   "outputs": [],
   "source": [
    "counter = 0\n",
    "try:\n",
    "    for page in pages:\n",
    "        counter = counter+1\n",
    "        page = requests.get(\"https://offcampus.osu.edu/search-housing.aspx?page=\" + str(page) + \"&pricefrom=0&sort=1\", headers = headers,timeout =10)\n",
    "        url = \"https://offcampus.osu.edu/search-housing.aspx?page=\" + str(page) + \"&pricefrom=0&sort=1\"\n",
    "        soup = BeautifulSoup(page.text, \"html.parser\")\n",
    "        appartment_div = soup.find_all('div', class_='o-row__col o-row__col--6of12@md o-row__col--4of12@xl')\n",
    "        sleep(randint(2,10))\n",
    "\n",
    "        for container in appartment_div:\n",
    "            # location\n",
    "            name = container.h2.a.text\n",
    "            match = next((x for x in direction if x in name), \"Null\")\n",
    "            location.append(match)\n",
    "    \n",
    "            info = container.find_all(\"dd\")       \n",
    "    \n",
    "            ##bed\n",
    "            bed = int(info[1].text[0])\n",
    "            beds.append(bed)\n",
    "    \n",
    "            ##Baths\n",
    "            bath = int(info[2].text[0])\n",
    "            baths.append(bath)\n",
    "            \n",
    "        \n",
    "          \n",
    "        \n",
    "            possible_links = soup.find_all(lambda tag: tag.name == 'div' and \n",
    "                            tag.get('class') == ['c-propertycard__info'])\n",
    "        \n",
    "            listings = []\n",
    "        \n",
    "  \n",
    "            \n",
    "            for div in possible_links:\n",
    "                listings.append(div.a['href'])\n",
    "            \n",
    "            for list_e in listings:\n",
    "                page = requests.get(\"https://offcampus.osu.edu/\" + str(list_e), headers = headers, timeout =10)\n",
    "                soup = BeautifulSoup(page.text, \"html.parser\")\n",
    "                ul = soup.select('div[class=\"o-row__col o-row__col--6of12@lg\"] li', recursive=True)\n",
    "                lis_e = []\n",
    "                for li in ul:\n",
    "                    lis = []\n",
    "                    lis.append(li.contents)\n",
    "                    lis_e.extend(lis)\n",
    "        \n",
    "                    \n",
    "                pattern = re.compile('(?<=University District:)\\s(\\w+)')\n",
    "                matches = pattern.search(str(lis_e))\n",
    "                if matches:\n",
    "                    location_sector.append(matches.group(1))\n",
    "                else:\n",
    "                    location_sector.append(\"None\")\n",
    "                pattern = re.compile('(?<=Off-street Parking:).*\\s.*(Yes|No)')\n",
    "                matches = pattern.search(str(lis_e))\n",
    "                if matches:\n",
    "                    parking.append(matches.group(1))\n",
    "                else:\n",
    "                    parking.append(\"None\")\n",
    "                pattern = re.compile('Laundry facilities in the (unit|building)')\n",
    "                matches = pattern.search(str(lis_e))\n",
    "                if matches:\n",
    "                    laundry.append(matches.group(1))\n",
    "                else:\n",
    "                    laundry.append(\"None\")\n",
    "                pattern = re.compile('(?<=Furnished).*(Yes|No)')\n",
    "                matches = pattern.search(str(lis_e))\n",
    "                if matches:\n",
    "                    furnished.append(matches.group(1))\n",
    "                else:\n",
    "                    furnished.append(\"None\")\n",
    "    \n",
    "                c = lis_e[1][1].split()\n",
    "                if len(c) ==  1:\n",
    "                    price.append(float(c[0].replace('$','').replace(\",\",'')))\n",
    "                else:\n",
    "                    num_1 = float(c[2].replace('$','').replace(\",\",''))\n",
    "                    price.append((num_1))\n",
    "                \n",
    "except requests.exceptions.Timeout:\n",
    "            print(url)\n",
    "            print(counter)\n",
    "            print(\"Timeout occurred\")\n",
    "    "
   ]
  },
  {
   "cell_type": "code",
   "execution_count": 580,
   "metadata": {},
   "outputs": [],
   "source": [
    "df = pd.DataFrame(columns = ['location','beds','price','baths','location_sector','parking','laundry','furnished'])"
   ]
  },
  {
   "cell_type": "code",
   "execution_count": 581,
   "metadata": {},
   "outputs": [],
   "source": [
    "df['location'] = location\n",
    "df['beds'] = beds\n",
    "df['price'] = price\n",
    "df['baths'] = baths\n",
    "df['location_sector'] = location_sector\n",
    "df['parking'] = parking\n",
    "df['laundry'] = laundry\n",
    "df['furnished'] = furnished"
   ]
  },
  {
   "cell_type": "code",
   "execution_count": 583,
   "metadata": {
    "scrolled": true
   },
   "outputs": [],
   "source": [
    "df['price'] = np.where((df['price']<=1000) & (df['beds']>2), df['price']*df['beds'], df['price'])"
   ]
  },
  {
   "cell_type": "code",
   "execution_count": 586,
   "metadata": {},
   "outputs": [],
   "source": [
    "df.to_csv('Listing.csv')"
   ]
  }
 ],
 "metadata": {
  "kernelspec": {
   "display_name": "Python 3",
   "language": "python",
   "name": "python3"
  }
 },
 "nbformat": 4,
 "nbformat_minor": 4
}
