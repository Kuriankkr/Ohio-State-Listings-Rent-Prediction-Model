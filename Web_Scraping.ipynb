{
 "cells": [
  {
   "cell_type": "code",
   "execution_count": 119,
   "metadata": {},
   "outputs": [],
   "source": [
    "import requests\n",
    "from requests import get\n",
    "from bs4 import BeautifulSoup\n",
    "import pandas as pd\n",
    "import numpy as np\n",
    "import re\n",
    "import urllib.request as ur\n",
    "\n",
    "from time import sleep\n",
    "from random import randint\n",
    "import re"
   ]
  },
  {
   "cell_type": "code",
   "execution_count": 3,
   "metadata": {},
   "outputs": [],
   "source": [
    "headers = {\"Accept-Language\": \"en-US, en;q=0.5\"}"
   ]
  },
  {
   "cell_type": "code",
   "execution_count": 4,
   "metadata": {},
   "outputs": [],
   "source": [
    "direction = [\"North\",\"East\",\"West\",\"South\"]"
   ]
  },
  {
   "cell_type": "code",
   "execution_count": 7,
   "metadata": {},
   "outputs": [],
   "source": [
    "pages = np.arange(0,161)"
   ]
  },
  {
   "cell_type": "code",
   "execution_count": 293,
   "metadata": {},
   "outputs": [],
   "source": [
    "location = []\n",
    "beds = []\n",
    "price = []\n",
    "baths = []\n",
    "location_sector = []\n",
    "parking = []\n",
    "laundry = []\n",
    "furnished = []\n"
   ]
  },
  {
   "cell_type": "code",
   "execution_count": 295,
   "metadata": {},
   "outputs": [
    {
     "ename": "AttributeError",
     "evalue": "'NoneType' object has no attribute 'group'",
     "output_type": "error",
     "traceback": [
      "\u001b[1;31m---------------------------------------------------------------------------\u001b[0m",
      "\u001b[1;31mAttributeError\u001b[0m                            Traceback (most recent call last)",
      "\u001b[1;32m<ipython-input-295-345815934bbe>\u001b[0m in \u001b[0;36m<module>\u001b[1;34m\u001b[0m\n\u001b[0;32m     55\u001b[0m             \u001b[0mpattern\u001b[0m \u001b[1;33m=\u001b[0m \u001b[0mre\u001b[0m\u001b[1;33m.\u001b[0m\u001b[0mcompile\u001b[0m\u001b[1;33m(\u001b[0m\u001b[1;34m'Laundry facilities in the (unit|building)'\u001b[0m\u001b[1;33m)\u001b[0m\u001b[1;33m\u001b[0m\u001b[1;33m\u001b[0m\u001b[0m\n\u001b[0;32m     56\u001b[0m             \u001b[0mmatches\u001b[0m \u001b[1;33m=\u001b[0m \u001b[0mpattern\u001b[0m\u001b[1;33m.\u001b[0m\u001b[0msearch\u001b[0m\u001b[1;33m(\u001b[0m\u001b[0mstr\u001b[0m\u001b[1;33m(\u001b[0m\u001b[0mlis_e\u001b[0m\u001b[1;33m)\u001b[0m\u001b[1;33m)\u001b[0m\u001b[1;33m\u001b[0m\u001b[1;33m\u001b[0m\u001b[0m\n\u001b[1;32m---> 57\u001b[1;33m             \u001b[0mlaundry\u001b[0m\u001b[1;33m.\u001b[0m\u001b[0mappend\u001b[0m\u001b[1;33m(\u001b[0m\u001b[0mmatches\u001b[0m\u001b[1;33m.\u001b[0m\u001b[0mgroup\u001b[0m\u001b[1;33m(\u001b[0m\u001b[1;36m1\u001b[0m\u001b[1;33m)\u001b[0m\u001b[1;33m)\u001b[0m\u001b[1;33m\u001b[0m\u001b[1;33m\u001b[0m\u001b[0m\n\u001b[0m\u001b[0;32m     58\u001b[0m             \u001b[0mpattern\u001b[0m \u001b[1;33m=\u001b[0m \u001b[0mre\u001b[0m\u001b[1;33m.\u001b[0m\u001b[0mcompile\u001b[0m\u001b[1;33m(\u001b[0m\u001b[1;34m'(?<=Furnished).*(Yes|No)'\u001b[0m\u001b[1;33m)\u001b[0m\u001b[1;33m\u001b[0m\u001b[1;33m\u001b[0m\u001b[0m\n\u001b[0;32m     59\u001b[0m             \u001b[0mmatches\u001b[0m \u001b[1;33m=\u001b[0m \u001b[0mpattern\u001b[0m\u001b[1;33m.\u001b[0m\u001b[0msearch\u001b[0m\u001b[1;33m(\u001b[0m\u001b[0mstr\u001b[0m\u001b[1;33m(\u001b[0m\u001b[0mlis_e\u001b[0m\u001b[1;33m)\u001b[0m\u001b[1;33m)\u001b[0m\u001b[1;33m\u001b[0m\u001b[1;33m\u001b[0m\u001b[0m\n",
      "\u001b[1;31mAttributeError\u001b[0m: 'NoneType' object has no attribute 'group'"
     ]
    }
   ],
   "source": [
    "for page in pages:\n",
    "    page = requests.get(\"https://offcampus.osu.edu/search-housing.aspx?page=\" + str(page) + \"&pricefrom=0&sort=1\", headers = headers)\n",
    "    soup = BeautifulSoup(page.text, \"html.parser\")\n",
    "    appartment_div = soup.find_all('div', class_='o-row__col o-row__col--6of12@md o-row__col--4of12@xl')\n",
    "    sleep(randint(2,10))\n",
    "\n",
    "    for container in appartment_div:\n",
    "        # location\n",
    "        name = container.h2.a.text\n",
    "        match = next((x for x in direction if x in name), \"Null\")\n",
    "        location.append(match)\n",
    "    \n",
    "        info = container.find_all(\"dd\")\n",
    "    \n",
    "        #price\n",
    "        if len(info[0].text)>10:\n",
    "            prices = (float(re.findall(r'\\d+\\.+\\d',info[0].text)[0]) + float(re.findall(r'\\d+\\.+\\d',info[0].text)[1]))/2\n",
    "            price.append(prices)\n",
    "        else:\n",
    "            prices = float((re.findall(r'\\d+\\.+\\d',info[0].text)[0]))\n",
    "            price.append(prices)\n",
    "        \n",
    "        ##bed\n",
    "        bed = int(info[1].text[0])\n",
    "        beds.append(bed)\n",
    "    \n",
    "        ##Baths\n",
    "        bath = int(info[2].text[0])\n",
    "        baths.append(bath)\n",
    "        \n",
    "        possible_links = soup.find_all(lambda tag: tag.name == 'div' and \n",
    "                                    tag.get('class') == ['c-propertycard__info'])\n",
    "        \n",
    "        listings = []\n",
    "        \n",
    "        for div in possible_links:\n",
    "            listings.append(div.a['href'])\n",
    "            \n",
    "        for list_e in listings:\n",
    "            page = requests.get(\"https://offcampus.osu.edu/\" + str(list_e), headers = headers)\n",
    "            soup = BeautifulSoup(page.text, \"html.parser\")\n",
    "            ul = soup.select('div[class=\"o-row__col o-row__col--6of12@lg\"] li', recursive=True)\n",
    "            lis_e = []\n",
    "            for li in ul:\n",
    "                lis = []\n",
    "                lis.append(li.contents)\n",
    "                lis_e.extend(lis)\n",
    "        \n",
    "            pattern = re.compile('(?<=University District:)\\s(\\w+)')\n",
    "            matches = pattern.search(str(lis_e))\n",
    "            location_sector.append(matches.group(1))\n",
    "            pattern = re.compile('(?<=Off-street Parking:).*\\s.*(Yes|No)')\n",
    "            matches = pattern.search(str(lis_e))\n",
    "            parking.append(matches.group(1))\n",
    "            pattern = re.compile('Laundry facilities in the (unit|building)')\n",
    "            matches = pattern.search(str(lis_e))\n",
    "            laundry.append(matches.group(1))\n",
    "            pattern = re.compile('(?<=Furnished).*(Yes|No)')\n",
    "            matches = pattern.search(str(lis_e))\n",
    "            furnished.append(matches.group(1))\n",
    "       \n",
    "            \n",
    "        \n",
    "        \n",
    "        \n",
    "        \n",
    "    "
   ]
  },
  {
   "cell_type": "code",
   "execution_count": 304,
   "metadata": {},
   "outputs": [
    {
     "data": {
      "text/plain": [
       "[[<strong>ID: </strong>, '\\r\\n                            00002CF0'],\n",
       " [<strong>Monthly Rent: </strong>,\n",
       "  '\\r\\n                            $450.00 - $900.00'],\n",
       " [<strong>Move In Date: </strong>, '\\r\\n                            August'],\n",
       " [<strong>Move Out Date: </strong>,\n",
       "  '\\r\\n                            end of  July'],\n",
       " [<strong>Lease Term: </strong>, '\\r\\n                            1 year'],\n",
       " [<strong>Short Lease Term: </strong>, '\\r\\n                            No'],\n",
       " [<strong>Sublease Permitted: </strong>, '\\r\\n                            No'],\n",
       " [<strong>Security Deposit: </strong>,\n",
       "  '\\r\\n                            $450 per student or 900 for  apt. Individual leases'],\n",
       " [<strong>Landlord: </strong>,\n",
       "  '\\r\\n                            Copeland Real Estate LLC'],\n",
       " [<strong>Property Type: </strong>,\n",
       "  '\\r\\n                            Apartment'],\n",
       " ['\\n',\n",
       "  <strong><a class=\"js-colorbox\" href=\"LocationSectorMap.aspx\" title=\"Location Sectors\">Location\n",
       "                                  Sector:</a></strong>,\n",
       "  ' University District: Southeast'],\n",
       " [<strong>Level: </strong>, '\\r\\n                            Above Ground'],\n",
       " [<strong>City: </strong>, '\\r\\n                            Columbus, OH'],\n",
       " [<strong>Bedrooms: </strong>, '\\r\\n                            2'],\n",
       " [<strong>Bathrooms: </strong>,\n",
       "  '\\r\\n                            1 full, 0 half'],\n",
       " [<strong>Max Occupancy: </strong>, '\\r\\n                            2'],\n",
       " [<strong>Wheel Chair Access: </strong>, '\\r\\n                            No'],\n",
       " [<strong>Basement: </strong>, '\\r\\n                            No'],\n",
       " [<strong>Laundry: </strong>, '\\r\\n                            None'],\n",
       " [<strong>Parking: </strong>, '\\r\\n                            Yes'],\n",
       " [<strong>Number of Parking Spaces: </strong>,\n",
       "  '\\r\\n                            2'],\n",
       " [<strong>Off-street Parking: </strong>,\n",
       "  '\\r\\n                            Yes'],\n",
       " [<strong>Off-street Monthly: </strong>,\n",
       "  '\\r\\n                            n/a'],\n",
       " [<strong>Off-street Yearly: </strong>, '\\r\\n                            n/a'],\n",
       " [<strong>On-street Parking: </strong>, '\\r\\n                            No'],\n",
       " [<strong>On-street Permit Required: </strong>,\n",
       "  '\\r\\n                            No'],\n",
       " [<strong>Garage Parking: </strong>, '\\r\\n                            No'],\n",
       " [<strong>Garage Monthly: </strong>, '\\r\\n                            n/a'],\n",
       " [<strong>Garage Yearly: </strong>, '\\r\\n                            n/a'],\n",
       " [<strong>Furnished: </strong>, '\\r\\n                            No'],\n",
       " [<strong>Fireplace: </strong>, '\\r\\n                            No'],\n",
       " [<strong>Air Conditioning: </strong>,\n",
       "  '\\r\\n                            Window A/C'],\n",
       " [<strong>Dishwasher: </strong>, '\\r\\n                            No'],\n",
       " [<strong>Stove: </strong>, '\\r\\n                            Yes'],\n",
       " [<strong>Refrigerator: </strong>, '\\r\\n                            Yes'],\n",
       " [<strong>Security System: </strong>, '\\r\\n                            No'],\n",
       " [<strong>Backyard: </strong>, '\\r\\n                            No'],\n",
       " [<strong>Deck Or Porch: </strong>, '\\r\\n                            No'],\n",
       " [<strong>Other Amenities: </strong>,\n",
       "  '\\r\\n                            Call Nathan (614) 282-9384  Email Questions to Nathan at ncopeland@ee.net. Security cameras around building.  Newly Renovated. Entirely new kitchen and bath. Ceramic back splash in kitchen, new appliances, new carpeting and flooring throughout entire apartment. Ceiling fan, oak cabinets huge deep closets and plenty of cabinet space, huge eat-in kitchen and spacious living room and bedrooms. Close to OSU law school, bus stops and laundromat. Huge new picture windows. Free off-street parking in private lot. New heaters. View apartment at www.copeland2.com'],\n",
       " [<strong>Pet Deposit: </strong>, '\\r\\n                            $0'],\n",
       " [<strong>Additional Pet Rent: </strong>,\n",
       "  '\\r\\n                            $0'],\n",
       " [<strong>Additional Dog Rent: </strong>,\n",
       "  '\\r\\n                            $0'],\n",
       " [<strong>Additional Cat Rent: </strong>,\n",
       "  '\\r\\n                            $0'],\n",
       " [<strong>Pets Allowed: </strong>, '\\r\\n                            No'],\n",
       " [<strong>Dogs Allowed: </strong>, '\\r\\n                            No'],\n",
       " [<strong>Cats Allowed: </strong>, '\\r\\n                            No'],\n",
       " [<strong>Pet Deposit Refundable: </strong>,\n",
       "  '\\r\\n                            No'],\n",
       " [<strong>Water Included: </strong>, '\\r\\n                            Yes'],\n",
       " [<strong>Electric Included: </strong>, '\\r\\n                            No'],\n",
       " [<strong>Gas Included: </strong>, '\\r\\n                            No'],\n",
       " [<a href=\"#\">\n",
       "  <img alt=\"Kitchen another view.\" height=\"100\" id=\"ctl00_ContentBody_RptrSmallImages_ctl01_ImgSmall\" src=\"/posts/vendors/properties/p1010017-1-thumbnail.jpg\" width=\"100\"/></a>],\n",
       " [<a href=\"#\">\n",
       "  <img alt=\"Side foyer view of kitchen enterance.\" height=\"100\" id=\"ctl00_ContentBody_RptrSmallImages_ctl02_ImgSmall\" src=\"/posts/vendors/properties/p1010002-1-thumbnail.jpg\" width=\"100\"/></a>],\n",
       " [<a href=\"#\">\n",
       "  <img alt=\"Large living room\" height=\"100\" id=\"ctl00_ContentBody_RptrSmallImages_ctl03_ImgSmall\" src=\"/posts/vendors/properties/p1010097-1-thumbnail.jpg\" width=\"100\"/></a>],\n",
       " [<a href=\"#\">\n",
       "  <img alt=\"Partial view of bedroom\" height=\"100\" id=\"ctl00_ContentBody_RptrSmallImages_ctl04_ImgSmall\" src=\"/posts/vendors/properties/p1010096-1-thumbnail.jpg\" width=\"100\"/></a>],\n",
       " [<a href=\"#\">\n",
       "  <img alt=\"Bathroom\" height=\"100\" id=\"ctl00_ContentBody_RptrSmallImages_ctl05_ImgSmall\" src=\"/posts/vendors/properties/p1010005-1-thumbnail.jpg\" width=\"100\"/></a>],\n",
       " [<a href=\"#\">\n",
       "  <img alt=\"Bathroom vanity and toilet\" height=\"100\" id=\"ctl00_ContentBody_RptrSmallImages_ctl06_ImgSmall\" src=\"/posts/vendors/properties/p1010007-1-thumbnail.jpg\" width=\"100\"/></a>],\n",
       " [<a href=\"#\">\n",
       "  <img alt=\"Front of apartment building.\" height=\"100\" id=\"ctl00_ContentBody_RptrSmallImages_ctl07_ImgSmall\" src=\"/posts/vendors/properties/p1010069-1-1-thumbnail.jpg\" width=\"100\"/></a>],\n",
       " [<a href=\"#\">\n",
       "  <img alt=\"View of large foyer and eat in kitchen from front door of apartment E\" height=\"100\" id=\"ctl00_ContentBody_RptrSmallImages_ctl08_ImgSmall\" src=\"/posts/vendors/properties/p1010010-1-thumbnail.jpg\" width=\"100\"/></a>],\n",
       " [<a href=\"#\">\n",
       "  <img alt=\"Another view of the kitchen, breakfast bar, white ceramic tiled back splash.\" height=\"100\" id=\"ctl00_ContentBody_RptrSmallImages_ctl09_ImgSmall\" src=\"/posts/vendors/properties/p1010014-1-thumbnail.jpg\" width=\"100\"/></a>],\n",
       " [<a href=\"#\">\n",
       "  <img alt=\"Another view of kitchen\" height=\"100\" id=\"ctl00_ContentBody_RptrSmallImages_ctl10_ImgSmall\" src=\"/posts/vendors/properties/p1010012-1-thumbnail.jpg\" width=\"100\"/></a>],\n",
       " [<a href=\"#\">\n",
       "  <img alt=\"Another view of new kitchen and newly tiled floors\" height=\"100\" id=\"ctl00_ContentBody_RptrSmallImages_ctl11_ImgSmall\" src=\"/posts/vendors/properties/p1010013-1-thumbnail.jpg\" width=\"100\"/></a>],\n",
       " [<a href=\"#\">\n",
       "  <img alt=\"Kitchen another view\" height=\"100\" id=\"ctl00_ContentBody_RptrSmallImages_ctl12_ImgSmall\" src=\"/posts/vendors/properties/p1010016-1-thumbnail.jpg\" width=\"100\"/></a>]]"
      ]
     },
     "execution_count": 304,
     "metadata": {},
     "output_type": "execute_result"
    }
   ],
   "source": [
    "lis_e"
   ]
  },
  {
   "cell_type": "code",
   "execution_count": 307,
   "metadata": {},
   "outputs": [
    {
     "data": {
      "text/plain": [
       "['Northeast',\n",
       " 'Northeast',\n",
       " 'Northeast',\n",
       " 'Northeast',\n",
       " 'Northeast',\n",
       " 'Northeast',\n",
       " 'Northeast',\n",
       " 'Northeast',\n",
       " 'Northeast',\n",
       " 'Northeast',\n",
       " 'Northeast',\n",
       " 'Northeast',\n",
       " 'Northeast',\n",
       " 'Central',\n",
       " 'Central',\n",
       " 'Northeast',\n",
       " 'Northeast',\n",
       " 'Northwest',\n",
       " 'Victorian',\n",
       " 'Northeast',\n",
       " 'Central',\n",
       " 'Central',\n",
       " 'Central',\n",
       " 'Central',\n",
       " 'Northeast',\n",
       " 'Central',\n",
       " 'Central',\n",
       " 'Southeast']"
      ]
     },
     "execution_count": 307,
     "metadata": {},
     "output_type": "execute_result"
    }
   ],
   "source": [
    "location_sector"
   ]
  },
  {
   "cell_type": "code",
   "execution_count": 315,
   "metadata": {},
   "outputs": [
    {
     "data": {
      "text/plain": [
       "(5, 'Null', 1)"
      ]
     },
     "execution_count": 315,
     "metadata": {},
     "output_type": "execute_result"
    }
   ],
   "source": [
    "beds[25],location[25],baths[25]"
   ]
  },
  {
   "cell_type": "code",
   "execution_count": 271,
   "metadata": {},
   "outputs": [],
   "source": [
    "listings = []\n",
    "import requests\n",
    "from bs4 import BeautifulSoup\n",
    "\n",
    "html = requests.get(\n",
    "    'https://offcampus.osu.edu/search-housing.aspx?page=0&pricefrom=0&sort=1').text\n",
    "\n",
    "bs = BeautifulSoup(html)\n",
    "possible_links = bs.find_all(lambda tag: tag.name == 'div' and \n",
    "                                    tag.get('class') == ['c-propertycard__info'])\n",
    "\n",
    "\n",
    "for div in possible_links:\n",
    "    listings.append(div.a['href'])\n",
    "    \n",
    "for list_e in listings:\n",
    "    page = requests.get(\"https://offcampus.osu.edu/\" + str(list_e), headers = headers)\n",
    "    soup = BeautifulSoup(page.text, \"html.parser\")\n",
    "    ul = soup.select('div[class=\"o-row__col o-row__col--6of12@lg\"] li', recursive=True)\n",
    "    lis_e = []\n",
    "    for li in ul:\n",
    "        lis = []\n",
    "        lis.append(li.contents)\n",
    "        lis_e.extend(lis)\n",
    "        \n",
    "    pattern = re.compile('(?<=University District:)\\s(\\w+)')\n",
    "    matches = pattern.search(str(lis_e))\n",
    "    location.append(matches.group(1))\n",
    "    pattern = re.compile('(?<=Off-street Parking:).*\\s.*(Yes|No)')\n",
    "    matches = pattern.search(str(lis_e))\n",
    "    parking.append(matches.group(1))\n",
    "    pattern = re.compile('Laundry facilities in the (unit|building)')\n",
    "    matches = pattern.search(str(lis_e))\n",
    "    laundry.append(matches.group(1))\n",
    "    pattern = re.compile('(?<=Furnished).*(Yes|No)')\n",
    "    matches = pattern.search(str(lis_e))\n",
    "    furnished.append(matches.group(1))\n",
    "       \n",
    "       \n",
    "    \n",
    "    "
   ]
  },
  {
   "cell_type": "code",
   "execution_count": 272,
   "metadata": {},
   "outputs": [
    {
     "data": {
      "text/plain": [
       "['No', 'No', 'No', 'No', 'No', 'Yes', 'Yes', 'No', 'No', 'No', 'No', 'No']"
      ]
     },
     "execution_count": 272,
     "metadata": {},
     "output_type": "execute_result"
    }
   ],
   "source": [
    "furnished"
   ]
  },
  {
   "cell_type": "code",
   "execution_count": 200,
   "metadata": {},
   "outputs": [
    {
     "data": {
      "text/plain": [
       "re.compile(r'(?<=Off-street Parking:).*\\s.*(\\x08Yes|No\\x08)', re.UNICODE)"
      ]
     },
     "execution_count": 200,
     "metadata": {},
     "output_type": "execute_result"
    }
   ],
   "source": [
    "pattern"
   ]
  },
  {
   "cell_type": "code",
   "execution_count": 213,
   "metadata": {},
   "outputs": [],
   "source": [
    "list_e = listings[]\n",
    "page = requests.get(\"https://offcampus.osu.edu/\" + str(list_e), headers = headers)\n",
    "soup = BeautifulSoup(page.text, \"html.parser\")\n",
    "ul = soup.select('div[class=\"o-row__col o-row__col--6of12@lg\"] li', recursive=True)\n",
    "lis_e = []\n",
    "for li in ul:\n",
    "    lis = []\n",
    "    lis.append(li.contents)\n",
    "    lis_e.extend(lis)\n",
    "\n",
    "\n"
   ]
  },
  {
   "cell_type": "code",
   "execution_count": 214,
   "metadata": {},
   "outputs": [
    {
     "data": {
      "text/plain": [
       "[[<strong>ID: </strong>, '\\r\\n                            00004F66'],\n",
       " [<strong>Monthly Rent: </strong>, '\\r\\n                            $400.00'],\n",
       " [<strong>Move In Date: </strong>,\n",
       "  '\\r\\n                            11-05-2020'],\n",
       " [<strong>Move Out Date: </strong>,\n",
       "  '\\r\\n                            07-31-2021'],\n",
       " [<strong>Lease Term: </strong>, '\\r\\n                            monthly '],\n",
       " [<strong>Short Lease Term: </strong>, '\\r\\n                            Yes'],\n",
       " [<strong>Sublease Permitted: </strong>, '\\r\\n                            No'],\n",
       " [<strong>Security Deposit: </strong>, '\\r\\n                            $400'],\n",
       " [<strong>Landlord: </strong>, '\\r\\n                            Miller, Lois'],\n",
       " [<strong>Name: </strong>, '\\r\\n                                Lois Miller'],\n",
       " [<strong>Address: </strong>,\n",
       "  '\\r\\n                                1510 W Lane Ave',\n",
       "  <br/>,\n",
       "  'Upper Arlington, OH 43220'],\n",
       " [<strong>Phone: </strong>,\n",
       "  '\\r\\n                                614-284-2085'],\n",
       " [<strong>Property Type: </strong>,\n",
       "  '\\r\\n                            Duplex/Town House'],\n",
       " ['\\n',\n",
       "  <strong><a class=\"js-colorbox\" href=\"LocationSectorMap.aspx\" title=\"Location Sectors\">Location\n",
       "                                  Sector:</a></strong>,\n",
       "  ' University District: Northeast'],\n",
       " [<strong>Level: </strong>, '\\r\\n                            Above Ground'],\n",
       " [<strong>City: </strong>, '\\r\\n                            Columbus, OH'],\n",
       " [<strong>Bedrooms: </strong>, '\\r\\n                            1'],\n",
       " [<strong>Bathrooms: </strong>,\n",
       "  '\\r\\n                            2 full, 0 half'],\n",
       " [<strong>Max Occupancy: </strong>, '\\r\\n                            1'],\n",
       " [<strong>Wheel Chair Access: </strong>, '\\r\\n                            No'],\n",
       " [<strong>Basement: </strong>, '\\r\\n                            Yes'],\n",
       " [<strong>Laundry: </strong>,\n",
       "  '\\r\\n                            Laundry facilities in the building'],\n",
       " [<strong>Parking: </strong>, '\\r\\n                            Yes'],\n",
       " [<strong>Number of Parking Spaces: </strong>,\n",
       "  '\\r\\n                            1'],\n",
       " [<strong>Off-street Parking: </strong>,\n",
       "  '\\r\\n                            Yes'],\n",
       " [<strong>Off-street Monthly: </strong>,\n",
       "  '\\r\\n                            n/a'],\n",
       " [<strong>Off-street Yearly: </strong>, '\\r\\n                            n/a'],\n",
       " [<strong>On-street Parking: </strong>, '\\r\\n                            Yes'],\n",
       " [<strong>On-street Permit Required: </strong>, '\\n'],\n",
       " [<strong>Garage Parking: </strong>, '\\r\\n                            No'],\n",
       " [<strong>Garage Monthly: </strong>, '\\r\\n                            n/a'],\n",
       " [<strong>Garage Yearly: </strong>, '\\r\\n                            n/a'],\n",
       " [<strong>Furnished: </strong>, '\\r\\n                            No'],\n",
       " [<strong>Fireplace: </strong>, '\\r\\n                            Yes'],\n",
       " [<strong>Air Conditioning: </strong>,\n",
       "  '\\r\\n                            Central A/C'],\n",
       " [<strong>Dishwasher: </strong>, '\\r\\n                            Yes'],\n",
       " [<strong>Stove: </strong>, '\\r\\n                            Yes'],\n",
       " [<strong>Refrigerator: </strong>, '\\r\\n                            Yes'],\n",
       " [<strong>Security System: </strong>, '\\r\\n                            No'],\n",
       " [<strong>Backyard: </strong>, '\\r\\n                            Yes'],\n",
       " [<strong>Deck Or Porch: </strong>, '\\r\\n                            Yes'],\n",
       " [<strong>Other Amenities: </strong>, '\\n'],\n",
       " [<strong>Pet Deposit: </strong>, '\\r\\n                            $0'],\n",
       " [<strong>Additional Pet Rent: </strong>,\n",
       "  '\\r\\n                            $0'],\n",
       " [<strong>Additional Dog Rent: </strong>,\n",
       "  '\\r\\n                            $0'],\n",
       " [<strong>Additional Cat Rent: </strong>,\n",
       "  '\\r\\n                            $0'],\n",
       " [<strong>Pets Allowed: </strong>, '\\r\\n                            No'],\n",
       " [<strong>Dogs Allowed: </strong>, '\\r\\n                            No'],\n",
       " [<strong>Cats Allowed: </strong>, '\\r\\n                            No'],\n",
       " [<strong>Pet Deposit Refundable: </strong>,\n",
       "  '\\r\\n                            No'],\n",
       " [<strong>Water Included: </strong>, '\\r\\n                            No'],\n",
       " [<strong>Electric Included: </strong>, '\\r\\n                            No'],\n",
       " [<strong>Gas Included: </strong>, '\\r\\n                            No'],\n",
       " [<a href=\"#\">\n",
       "  <img alt=\"Pic 1\" height=\"100\" id=\"ctl00_ContentBody_RptrSmallImages_ctl01_ImgSmall\" src=\"/posts/vendors/properties/pic1-thumbnail.jpg\" width=\"100\"/></a>],\n",
       " [<a href=\"#\">\n",
       "  <img alt=\"pic 2\" height=\"100\" id=\"ctl00_ContentBody_RptrSmallImages_ctl02_ImgSmall\" src=\"/posts/vendors/properties/pic2-1-thumbnail.jpg\" width=\"100\"/></a>],\n",
       " [<a href=\"#\">\n",
       "  <img alt=\"pic 6\" height=\"100\" id=\"ctl00_ContentBody_RptrSmallImages_ctl03_ImgSmall\" src=\"/posts/vendors/properties/pic6-2-thumbnail.jpg\" width=\"100\"/></a>],\n",
       " [<a href=\"#\">\n",
       "  <img alt=\"Living Room\" height=\"100\" id=\"ctl00_ContentBody_RptrSmallImages_ctl04_ImgSmall\" src=\"/posts/vendors/properties/dsc-0518-1-thumbnail.jpg\" width=\"100\"/></a>],\n",
       " [<a href=\"#\">\n",
       "  <img alt=\"Living Room\" height=\"100\" id=\"ctl00_ContentBody_RptrSmallImages_ctl05_ImgSmall\" src=\"/posts/vendors/properties/dsc-0521-thumbnail.jpg\" width=\"100\"/></a>],\n",
       " [<a href=\"#\">\n",
       "  <img alt=\"Dining Room\" height=\"100\" id=\"ctl00_ContentBody_RptrSmallImages_ctl06_ImgSmall\" src=\"/posts/vendors/properties/dsc-0520-thumbnail.jpg\" width=\"100\"/></a>],\n",
       " [<a href=\"#\">\n",
       "  <img alt=\"Kitchen\" height=\"100\" id=\"ctl00_ContentBody_RptrSmallImages_ctl07_ImgSmall\" src=\"/posts/vendors/properties/dsc-0522-thumbnail.jpg\" width=\"100\"/></a>]]"
      ]
     },
     "execution_count": 214,
     "metadata": {},
     "output_type": "execute_result"
    }
   ],
   "source": [
    "lis_e"
   ]
  },
  {
   "cell_type": "code",
   "execution_count": 212,
   "metadata": {},
   "outputs": [
    {
     "data": {
      "text/plain": [
       "'/search-housing.aspx?property=20326&pricefrom=0&sort=1'"
      ]
     },
     "execution_count": 212,
     "metadata": {},
     "output_type": "execute_result"
    }
   ],
   "source": [
    "listings[2]"
   ]
  },
  {
   "cell_type": "code",
   "execution_count": null,
   "metadata": {},
   "outputs": [],
   "source": [
    "[[<strong>ID: </strong>, '\\r\\n                            00004C99'],\n",
    " [<strong>Monthly Rent: </strong>,\n",
    "  '\\r\\n                            $350.00 - $650.00'],\n",
    " [<strong>Move In Date: </strong>,\n",
    "  '\\r\\n                            Negotiable'],\n",
    " [<strong>Move Out Date: </strong>,\n",
    "  '\\r\\n                            Negotiable'],\n",
    " [<strong>Lease Term: </strong>, '\\r\\n                            12 months'],\n",
    " [<strong>Short Lease Term: </strong>, '\\r\\n                            Yes'],\n",
    " [<strong>Sublease Permitted: </strong>,\n",
    "  '\\r\\n                            Yes'],\n",
    " [<strong>Security Deposit: </strong>,\n",
    "  '\\r\\n                            $350-650'],\n",
    " [<strong>Landlord: </strong>, '\\r\\n                            LING YANG'],\n",
    " [<strong>Property Type: </strong>,\n",
    "  '\\r\\n                            Rooming House'],\n",
    " ['\\n',\n",
    "  <strong><a class=\"js-colorbox\" href=\"LocationSectorMap.aspx\" title=\"Location Sectors\">Location\n",
    "                                  Sector:</a></strong>,\n",
    "  ' University District: Central'],\n",
    " [<strong>Level: </strong>, '\\r\\n                            Above Ground'],\n",
    " [<strong>City: </strong>, '\\r\\n                            Columbus, OH'],\n",
    " [<strong>Bedrooms: </strong>, '\\r\\n                            7'],\n",
    " [<strong>Bathrooms: </strong>,\n",
    "  '\\r\\n                            2 full, 0 half'],\n",
    " [<strong>Max Occupancy: </strong>, '\\r\\n                            7'],\n",
    " [<strong>Wheel Chair Access: </strong>, '\\r\\n                            No'],\n",
    " [<strong>Basement: </strong>, '\\r\\n                            Yes'],\n",
    " [<strong>Laundry: </strong>,\n",
    "  '\\r\\n                            Laundry facilities in the unit'],\n",
    " [<strong>Parking: </strong>, '\\r\\n                            Yes'],\n",
    " [<strong>Number of Parking Spaces: </strong>,\n",
    "  '\\r\\n                            7'],\n",
    " [<strong>Off-street Parking: </strong>,\n",
    "  '\\r\\n                            Yes'],\n",
    " [<strong>Off-street Monthly: </strong>,\n",
    "  '\\r\\n                            $n/a'],\n",
    " [<strong>Off-street Yearly: </strong>,\n",
    "  '\\r\\n                            $n/a'],\n",
    " [<strong>On-street Parking: </strong>, '\\r\\n                            Yes'],\n",
    " [<strong>On-street Permit Required: </strong>, '\\n'],\n",
    " [<strong>Garage Parking: </strong>, '\\r\\n                            No'],\n",
    " [<strong>Garage Monthly: </strong>, '\\r\\n                            $n/a'],\n",
    " [<strong>Garage Yearly: </strong>, '\\r\\n                            $n/a'],\n",
    " [<strong>Furnished: </strong>, '\\r\\n                            No'],\n",
    " [<strong>Fireplace: </strong>, '\\r\\n                            No'],\n",
    " [<strong>Air Conditioning: </strong>,\n",
    "  '\\r\\n                            Central A/C'],\n",
    " [<strong>Dishwasher: </strong>, '\\r\\n                            No'],\n",
    " [<strong>Stove: </strong>, '\\r\\n                            Yes'],\n",
    " [<strong>Refrigerator: </strong>, '\\r\\n                            Yes'],\n",
    " [<strong>Security System: </strong>, '\\r\\n                            No'],\n",
    " [<strong>Backyard: </strong>, '\\r\\n                            Yes'],\n",
    " [<strong>Deck Or Porch: </strong>, '\\r\\n                            Yes'],\n",
    " [<strong>Other Amenities: </strong>,\n",
    "  '\\r\\n                            Please call or text at (614)304-1888 or email to LingYangB@gmail.com or Yang.2094@osu.edu for more info about the said property  or our other properties at 365 East 15Th Ave, Columbus, Ohio 43201 and 380 Wyandotte Ave, Columbus, Ohio 43202. International students must provide documents for their legal stay in the USA.'],\n",
    " [<strong>Pet Deposit: </strong>, '\\r\\n                            $144'],\n",
    " [<strong>Additional Pet Rent: </strong>,\n",
    "  '\\r\\n                            $35'],\n",
    " [<strong>Additional Dog Rent: </strong>,\n",
    "  '\\r\\n                            $35'],\n",
    " [<strong>Additional Cat Rent: </strong>,\n",
    "  '\\r\\n                            $35'],\n",
    " [<strong>Pets Allowed: </strong>, '\\r\\n                            Yes'],\n",
    " [<strong>Dogs Allowed: </strong>, '\\r\\n                            Yes'],\n",
    " [<strong>Cats Allowed: </strong>, '\\r\\n                            Yes'],\n",
    " [<strong>Pet Deposit Refundable: </strong>,\n",
    "  '\\r\\n                            No'],\n",
    " [<strong>Water Included: </strong>, '\\r\\n                            No'],\n",
    " [<strong>Electric Included: </strong>, '\\r\\n                            No'],\n",
    " [<strong>Gas Included: </strong>, '\\r\\n                            No'],\n",
    " [<a href=\"#\">\n",
    "  <img alt=\"Kitchen\" height=\"100\" id=\"ctl00_ContentBody_RptrSmallImages_ctl01_ImgSmall\" src=\"/posts/vendors/properties/0-368-kitchen-thumbnail.jpg\" width=\"100\"/></a>],\n",
    " [<a href=\"#\">\n",
    "  <img alt=\"Living 1\" height=\"100\" id=\"ctl00_ContentBody_RptrSmallImages_ctl02_ImgSmall\" src=\"/posts/vendors/properties/living-1-1-1-thumbnail.jpg\" width=\"100\"/></a>],\n",
    " [<a href=\"#\">\n",
    "  <img alt=\"Living 2\" height=\"100\" id=\"ctl00_ContentBody_RptrSmallImages_ctl03_ImgSmall\" src=\"/posts/vendors/properties/living-1-2-thumbnail.jpg\" width=\"100\"/></a>],\n",
    " [<a href=\"#\">\n",
    "  <img alt=\"Living 3\" height=\"100\" id=\"ctl00_ContentBody_RptrSmallImages_ctl04_ImgSmall\" src=\"/posts/vendors/properties/living-1-1-2-thumbnail.jpg\" width=\"100\"/></a>],\n",
    " [<a href=\"#\">\n",
    "  <img alt=\"Room 101\" height=\"100\" id=\"ctl00_ContentBody_RptrSmallImages_ctl05_ImgSmall\" src=\"/posts/vendors/properties/room-101-2-thumbnail.jpg\" width=\"100\"/></a>],\n",
    " [<a href=\"#\">\n",
    "  <img alt=\"Room 101\" height=\"100\" id=\"ctl00_ContentBody_RptrSmallImages_ctl06_ImgSmall\" src=\"/posts/vendors/properties/room-101-1-thumbnail.jpg\" width=\"100\"/></a>],\n",
    " [<a href=\"#\">\n",
    "  <img alt=\"Bath\" height=\"100\" id=\"ctl00_ContentBody_RptrSmallImages_ctl07_ImgSmall\" src=\"/posts/vendors/properties/bath-1-1-1-thumbnail.jpg\" width=\"100\"/></a>],\n",
    " [<a href=\"#\">\n",
    "  <img alt=\"Bath\" height=\"100\" id=\"ctl00_ContentBody_RptrSmallImages_ctl08_ImgSmall\" src=\"/posts/vendors/properties/bath-1-2-1-thumbnail.jpg\" width=\"100\"/></a>],\n",
    " [<a href=\"#\">\n",
    "  <img alt=\"Bath\" height=\"100\" id=\"ctl00_ContentBody_RptrSmallImages_ctl09_ImgSmall\" src=\"/posts/vendors/properties/bath-2-2-2-thumbnail.jpg\" width=\"100\"/></a>],\n",
    " [<a href=\"#\">\n",
    "  <img alt=\"Kitchen\" height=\"100\" id=\"ctl00_ContentBody_RptrSmallImages_ctl10_ImgSmall\" src=\"/posts/vendors/properties/kitchen-1-2-1-thumbnail.jpg\" width=\"100\"/></a>],\n",
    " [<a href=\"#\">\n",
    "  <img alt=\"Room\" height=\"100\" id=\"ctl00_ContentBody_RptrSmallImages_ctl11_ImgSmall\" src=\"/posts/vendors/properties/room-201-1-thumbnail.jpg\" width=\"100\"/></a>],\n",
    " [<a href=\"#\">\n",
    "  <img alt=\"Room\" height=\"100\" id=\"ctl00_ContentBody_RptrSmallImages_ctl12_ImgSmall\" src=\"/posts/vendors/properties/room-202-1-thumbnail.jpg\" width=\"100\"/></a>],\n",
    " [<a href=\"#\">\n",
    "  <img alt=\"Room\" height=\"100\" id=\"ctl00_ContentBody_RptrSmallImages_ctl13_ImgSmall\" src=\"/posts/vendors/properties/room-202-2-thumbnail.jpg\" width=\"100\"/></a>],\n",
    " [<a href=\"#\">\n",
    "  <img alt=\"Room\" height=\"100\" id=\"ctl00_ContentBody_RptrSmallImages_ctl14_ImgSmall\" src=\"/posts/vendors/properties/room-301-1-thumbnail.jpg\" width=\"100\"/></a>],\n",
    " [<a href=\"#\">\n",
    "  <img alt=\"Room\" height=\"100\" id=\"ctl00_ContentBody_RptrSmallImages_ctl15_ImgSmall\" src=\"/posts/vendors/properties/room-302-1-thumbnail.jpg\" width=\"100\"/></a>],\n",
    " [<a href=\"#\">\n",
    "  <img alt=\"Room\" height=\"100\" id=\"ctl00_ContentBody_RptrSmallImages_ctl16_ImgSmall\" src=\"/posts/vendors/properties/room-302-2-thumbnail.jpg\" width=\"100\"/></a>]]\n"
   ]
  },
  {
   "cell_type": "code",
   "execution_count": 150,
   "metadata": {},
   "outputs": [],
   "source": [
    "for div in possible_links:\n",
    "    listings.append(div.a['href'])\n",
    "    list_e = listings[2] \n",
    "    page = requests.get(\"https://offcampus.osu.edu/\" + str(list_e), headers = headers)\n",
    "    soup = BeautifulSoup(page.text, \"html.parser\")\n",
    "    ul = soup.select('div[class=\"o-row__col o-row__col--6of12@lg\"] li', recursive=True)\n",
    "    lis_e = []\n",
    "    for li in ul:\n",
    "        lis = []\n",
    "        lis.append(li.contents)\n",
    "        lis_e.extend(lis)"
   ]
  },
  {
   "cell_type": "code",
   "execution_count": 108,
   "metadata": {},
   "outputs": [
    {
     "data": {
      "text/plain": [
       "[<strong>Laundry: </strong>,\n",
       " '\\r\\n                            Laundry facilities in the unit']"
      ]
     },
     "execution_count": 108,
     "metadata": {},
     "output_type": "execute_result"
    }
   ],
   "source": [
    "\n",
    "lis_e[18]\n",
    "#lis_e[19]"
   ]
  },
  {
   "cell_type": "code",
   "execution_count": 115,
   "metadata": {},
   "outputs": [],
   "source": [
    "import re\n",
    "pattern = re.compile('(?<=\\w)\\s+([^.-]*\\w)')\n",
    "matches = pattern.search(str(lis_e[18]))"
   ]
  },
  {
   "cell_type": "code",
   "execution_count": 116,
   "metadata": {},
   "outputs": [
    {
     "data": {
      "text/plain": [
       "'Laundry facilities in the unit'"
      ]
     },
     "execution_count": 116,
     "metadata": {},
     "output_type": "execute_result"
    }
   ],
   "source": []
  },
  {
   "cell_type": "code",
   "execution_count": null,
   "metadata": {},
   "outputs": [],
   "source": [
    "import re\n",
    "pattern = re.compile('\\n(\\s\\w+)')\n",
    "matches = pattern.search(str(lis_e[19]))"
   ]
  },
  {
   "cell_type": "code",
   "execution_count": 24,
   "metadata": {},
   "outputs": [],
   "source": [
    "url_to_scrape = \"https://offcampus.osu.edu/search-housing.aspx?page=0\"\n",
    "page_source = ur.urlopen(url_to_scrape).read().decode('utf-8')\n",
    "regex_pattern = 'search.*\\d{5,8}'\n",
    "rental_home_ids = re.findall(regex_pattern, page_source)\n",
    "rental_home_ids = list(set(rental_home_ids))"
   ]
  },
  {
   "cell_type": "code",
   "execution_count": null,
   "metadata": {},
   "outputs": [],
   "source": [
    "http = 'https://offcampus.osu.edu/'\n",
    "for page in pages:\n",
    "    homepage_to_scrape = \"https://offcampus.osu.edu/search-housing.aspx?page=\" + str(page) + \"&pricefrom=0&sort=1\"\n",
    "    homepage = ur.urlopen(url_to_scrape).read().decode('utf-8')\n",
    "    regex_pattern = 'search.*\\d{5,8}'\n",
    "    rental_home_ids = re.findall(regex_pattern, homepage)\n",
    "    rental_home_ids = list(set(rental_home_ids))\n",
    "    listings_in_each_website = [http + s for s in rental_home_ids]\n",
    "    \n",
    "    for each_listing in listings_in_each_website:\n",
    "        page = requests.get\n",
    "        soup = BeautifulSoup(page.text, \"html.parser\")\n",
    "        \n",
    "        \n",
    "    \n",
    "    \n",
    "    "
   ]
  },
  {
   "cell_type": "code",
   "execution_count": 106,
   "metadata": {},
   "outputs": [],
   "source": [
    "http = 'https://offcampus.osu.edu/'\n",
    "listings_in_each_website = [http + s for s in rental_home_ids]"
   ]
  },
  {
   "cell_type": "code",
   "execution_count": 120,
   "metadata": {},
   "outputs": [],
   "source": [
    "rent = listings_in_each_website[0]"
   ]
  },
  {
   "cell_type": "code",
   "execution_count": 167,
   "metadata": {},
   "outputs": [],
   "source": [
    "page = requests.get(rent,headers = headers)\n",
    "soup = BeautifulSoup(page.text, \"html.parser\")\n",
    "appartment_div = soup.find_all('div', class_='o-row__col o-row__col--6of12@lg')"
   ]
  },
  {
   "cell_type": "code",
   "execution_count": 208,
   "metadata": {},
   "outputs": [],
   "source": [
    "regex_pattern = '(Wheel Chair Acc.*ess).*(Yes|No)'"
   ]
  },
  {
   "cell_type": "code",
   "execution_count": 209,
   "metadata": {},
   "outputs": [
    {
     "data": {
      "text/plain": [
       "[]"
      ]
     },
     "execution_count": 209,
     "metadata": {},
     "output_type": "execute_result"
    }
   ],
   "source": [
    "c = re.findall(regex_pattern,str(appartment_div[0]))"
   ]
  },
  {
   "cell_type": "code",
   "execution_count": 218,
   "metadata": {},
   "outputs": [],
   "source": [
    "regex_pattern = '(Wheel Chair Access).*(Yes|No)'"
   ]
  },
  {
   "cell_type": "code",
   "execution_count": 220,
   "metadata": {},
   "outputs": [
    {
     "data": {
      "text/plain": [
       "[]"
      ]
     },
     "execution_count": 220,
     "metadata": {},
     "output_type": "execute_result"
    }
   ],
   "source": [
    "re.findall(regex_pattern,str(appartment_div[0]))"
   ]
  },
  {
   "cell_type": "code",
   "execution_count": 221,
   "metadata": {},
   "outputs": [
    {
     "data": {
      "text/plain": [
       "'<div class=\"o-row__col o-row__col--6of12@lg\">\\n<h1>65 East 18th Avenue </h1>\\n<h2>Listing Information</h2>\\n<ul>\\n<li><strong>ID: </strong>\\r\\n                            0000479D</li>\\n<li><strong>Monthly Rent: </strong>\\r\\n                            $430.00 - $1,600.00</li>\\n<li><strong>Move In Date: </strong>\\r\\n                            08/01/2021</li>\\n<li><strong>Move Out Date: </strong>\\r\\n                            07/30/2022</li>\\n<li><strong>Lease Term: </strong>\\r\\n                            1 year</li>\\n<li><strong>Short Lease Term: </strong>\\r\\n                            No</li>\\n<li><strong>Sublease Permitted: </strong>\\r\\n                            No</li>\\n<li><strong>Security Deposit: </strong>\\r\\n                            $1400</li>\\n<li><strong>Landlord: </strong>\\r\\n                            S&amp;G Properties</li>\\n</ul>\\n<h2>Property Details</h2>\\n<ul>\\n<li><strong>Property Type: </strong>\\r\\n                            Apartment</li>\\n<li class=\"s-editor\" id=\"ctl00_ContentBody_LiLocationSectorPopup\">\\n<strong><a class=\"js-colorbox\" href=\"LocationSectorMap.aspx\" title=\"Location Sectors\">Location\\r\\n                                Sector:</a></strong> University District: Central</li>\\n<li><strong>Level: </strong>\\r\\n                            Above Ground</li>\\n<li><strong>City: </strong>\\r\\n                            Columbus, OH</li>\\n<li><strong>Bedrooms: </strong>\\r\\n                            3</li>\\n<li><strong>Bathrooms: </strong>\\r\\n                            1 full, 0 half</li>\\n<li><strong>Max Occupancy: </strong>\\r\\n                            3</li>\\n<li><strong>Wheel Chair Access: </strong>\\r\\n                            Yes</li>\\n<li><strong>Basement: </strong>\\r\\n                            No</li>\\n<li><strong>Laundry: </strong>\\r\\n                            Laundry facilities in the building</li>\\n</ul>\\n<h2>Parking Information</h2>\\n<ul>\\n<li><strong>Parking: </strong>\\r\\n                            Yes</li>\\n<li><strong>Number of Parking Spaces: </strong>\\r\\n                            27</li>\\n<li><strong>Off-street Parking: </strong>\\r\\n                            Yes</li>\\n<li><strong>Off-street Monthly: </strong>\\r\\n                            n/a</li>\\n<li><strong>Off-street Yearly: </strong>\\r\\n                            $600</li>\\n<li><strong>On-street Parking: </strong>\\r\\n                            Yes</li>\\n<li><strong>On-street Permit Required: </strong>\\n</li>\\n<li><strong>Garage Parking: </strong>\\r\\n                            No</li>\\n<li><strong>Garage Monthly: </strong>\\r\\n                            n/a</li>\\n<li><strong>Garage Yearly: </strong>\\r\\n                            n/a</li>\\n</ul>\\n<h2>Amenities</h2>\\n<ul>\\n<li><strong>Furnished: </strong>\\r\\n                            No</li>\\n<li><strong>Fireplace: </strong>\\r\\n                            No</li>\\n<li><strong>Air Conditioning: </strong>\\r\\n                            Central A/C</li>\\n<li><strong>Dishwasher: </strong>\\r\\n                            Yes</li>\\n<li><strong>Stove: </strong>\\r\\n                            Yes</li>\\n<li><strong>Refrigerator: </strong>\\r\\n                            Yes</li>\\n<li><strong>Security System: </strong>\\r\\n                            No</li>\\n<li><strong>Backyard: </strong>\\r\\n                            No</li>\\n<li><strong>Deck Or Porch: </strong>\\r\\n                            No</li>\\n<li><strong>Other Amenities: </strong>\\r\\n                            Awesome and secure modern building in the center of campus.\\r\\n3 bedrooms, living room, kitchen, extra den...\\r\\nCall for showing.</li>\\n</ul>\\n<h2>Pet Information</h2>\\n<ul>\\n<li><strong>Pet Deposit: </strong>\\r\\n                            $0</li>\\n<li><strong>Additional Pet Rent: </strong>\\r\\n                            $0</li>\\n<li><strong>Additional Dog Rent: </strong>\\r\\n                            $0</li>\\n<li><strong>Additional Cat Rent: </strong>\\r\\n                            $0</li>\\n<li><strong>Pets Allowed: </strong>\\r\\n                            No</li>\\n<li><strong>Dogs Allowed: </strong>\\r\\n                            No</li>\\n<li><strong>Cats Allowed: </strong>\\r\\n                            No</li>\\n<li><strong>Pet Deposit Refundable: </strong>\\r\\n                            No</li>\\n</ul>\\n<h2>Utilities</h2>\\n<ul>\\n<li><strong>Water Included: </strong>\\r\\n                            No</li>\\n<li><strong>Electric Included: </strong>\\r\\n                            No</li>\\n<li><strong>Gas Included: </strong>\\r\\n                            No</li>\\n</ul>\\n<h2>Comments</h2>\\n<p>TEXT to SHOW 614-395-1993\\r\\nBig...big....3 bedroom....half a block off of High street behind McDonalds.  Best central location and price.  Laundry room on site.\\r\\nTwo versions available....Easy to set up tours.\\r\\nCall 614-273-7775</p>\\n</div>'"
      ]
     },
     "execution_count": 221,
     "metadata": {},
     "output_type": "execute_result"
    }
   ],
   "source": [
    "str(appartment_div[0])"
   ]
  },
  {
   "cell_type": "code",
   "execution_count": 184,
   "metadata": {},
   "outputs": [
    {
     "ename": "TypeError",
     "evalue": "unsupported operand type(s) for -: 'str' and 'int'",
     "output_type": "error",
     "traceback": [
      "\u001b[1;31m---------------------------------------------------------------------------\u001b[0m",
      "\u001b[1;31mTypeError\u001b[0m                                 Traceback (most recent call last)",
      "\u001b[1;32m<ipython-input-184-9470cad9ffd7>\u001b[0m in \u001b[0;36m<module>\u001b[1;34m\u001b[0m\n\u001b[1;32m----> 1\u001b[1;33m \u001b[0mappartment_div\u001b[0m\u001b[1;33m[\u001b[0m\u001b[1;36m0\u001b[0m\u001b[1;33m]\u001b[0m\u001b[1;33m.\u001b[0m\u001b[0mdecode\u001b[0m\u001b[1;33m(\u001b[0m\u001b[1;34m'utf-8'\u001b[0m\u001b[1;33m)\u001b[0m\u001b[1;33m\u001b[0m\u001b[1;33m\u001b[0m\u001b[0m\n\u001b[0m",
      "\u001b[1;32m~\\anaconda3\\lib\\site-packages\\bs4\\element.py\u001b[0m in \u001b[0;36mdecode\u001b[1;34m(self, indent_level, eventual_encoding, formatter)\u001b[0m\n\u001b[0;32m   1590\u001b[0m         \u001b[0mindent_space\u001b[0m \u001b[1;33m=\u001b[0m \u001b[1;34m''\u001b[0m\u001b[1;33m\u001b[0m\u001b[1;33m\u001b[0m\u001b[0m\n\u001b[0;32m   1591\u001b[0m         \u001b[1;32mif\u001b[0m \u001b[0mindent_level\u001b[0m \u001b[1;32mis\u001b[0m \u001b[1;32mnot\u001b[0m \u001b[1;32mNone\u001b[0m\u001b[1;33m:\u001b[0m\u001b[1;33m\u001b[0m\u001b[1;33m\u001b[0m\u001b[0m\n\u001b[1;32m-> 1592\u001b[1;33m             \u001b[0mindent_space\u001b[0m \u001b[1;33m=\u001b[0m \u001b[1;33m(\u001b[0m\u001b[1;34m' '\u001b[0m \u001b[1;33m*\u001b[0m \u001b[1;33m(\u001b[0m\u001b[0mindent_level\u001b[0m \u001b[1;33m-\u001b[0m \u001b[1;36m1\u001b[0m\u001b[1;33m)\u001b[0m\u001b[1;33m)\u001b[0m\u001b[1;33m\u001b[0m\u001b[1;33m\u001b[0m\u001b[0m\n\u001b[0m\u001b[0;32m   1593\u001b[0m         \u001b[1;32mif\u001b[0m \u001b[0mpretty_print\u001b[0m\u001b[1;33m:\u001b[0m\u001b[1;33m\u001b[0m\u001b[1;33m\u001b[0m\u001b[0m\n\u001b[0;32m   1594\u001b[0m             \u001b[0mspace\u001b[0m \u001b[1;33m=\u001b[0m \u001b[0mindent_space\u001b[0m\u001b[1;33m\u001b[0m\u001b[1;33m\u001b[0m\u001b[0m\n",
      "\u001b[1;31mTypeError\u001b[0m: unsupported operand type(s) for -: 'str' and 'int'"
     ]
    }
   ],
   "source": [
    "appartment_div[0].decode('utf-8')"
   ]
  },
  {
   "cell_type": "code",
   "execution_count": 163,
   "metadata": {},
   "outputs": [],
   "source": [
    "app = appartment_div[0]"
   ]
  },
  {
   "cell_type": "code",
   "execution_count": 164,
   "metadata": {},
   "outputs": [
    {
     "ename": "AttributeError",
     "evalue": "'NavigableString' object has no attribute 'contents'",
     "output_type": "error",
     "traceback": [
      "\u001b[1;31m---------------------------------------------------------------------------\u001b[0m",
      "\u001b[1;31mAttributeError\u001b[0m                            Traceback (most recent call last)",
      "\u001b[1;32m<ipython-input-164-05a80210f95a>\u001b[0m in \u001b[0;36m<module>\u001b[1;34m\u001b[0m\n\u001b[0;32m      1\u001b[0m \u001b[1;32mfor\u001b[0m \u001b[0mli\u001b[0m \u001b[1;32min\u001b[0m \u001b[0mapp\u001b[0m\u001b[1;33m.\u001b[0m\u001b[0mcontents\u001b[0m\u001b[1;33m:\u001b[0m\u001b[1;33m\u001b[0m\u001b[1;33m\u001b[0m\u001b[0m\n\u001b[1;32m----> 2\u001b[1;33m     \u001b[0mli\u001b[0m\u001b[1;33m.\u001b[0m\u001b[0mcontents\u001b[0m\u001b[1;33m[\u001b[0m\u001b[1;36m0\u001b[0m\u001b[1;33m]\u001b[0m\u001b[1;33m\u001b[0m\u001b[1;33m\u001b[0m\u001b[0m\n\u001b[0m",
      "\u001b[1;32m~\\anaconda3\\lib\\site-packages\\bs4\\element.py\u001b[0m in \u001b[0;36m__getattr__\u001b[1;34m(self, attr)\u001b[0m\n\u001b[0;32m    914\u001b[0m             \u001b[1;32mreturn\u001b[0m \u001b[0mself\u001b[0m\u001b[1;33m\u001b[0m\u001b[1;33m\u001b[0m\u001b[0m\n\u001b[0;32m    915\u001b[0m         \u001b[1;32melse\u001b[0m\u001b[1;33m:\u001b[0m\u001b[1;33m\u001b[0m\u001b[1;33m\u001b[0m\u001b[0m\n\u001b[1;32m--> 916\u001b[1;33m             raise AttributeError(\n\u001b[0m\u001b[0;32m    917\u001b[0m                 \"'%s' object has no attribute '%s'\" % (\n\u001b[0;32m    918\u001b[0m                     self.__class__.__name__, attr))\n",
      "\u001b[1;31mAttributeError\u001b[0m: 'NavigableString' object has no attribute 'contents'"
     ]
    }
   ],
   "source": [
    "for li in app.contents:\n",
    "    li.contents[0]"
   ]
  },
  {
   "cell_type": "code",
   "execution_count": 165,
   "metadata": {},
   "outputs": [
    {
     "data": {
      "text/plain": [
       "<div class=\"o-row__col o-row__col--6of12@lg\">\n",
       "<h1>65 East 18th Avenue </h1>\n",
       "<h2>Listing Information</h2>\n",
       "<ul>\n",
       "<li><strong>ID: </strong>\n",
       "                            0000479D</li>\n",
       "<li><strong>Monthly Rent: </strong>\n",
       "                            $430.00 - $1,600.00</li>\n",
       "<li><strong>Move In Date: </strong>\n",
       "                            08/01/2021</li>\n",
       "<li><strong>Move Out Date: </strong>\n",
       "                            07/30/2022</li>\n",
       "<li><strong>Lease Term: </strong>\n",
       "                            1 year</li>\n",
       "<li><strong>Short Lease Term: </strong>\n",
       "                            No</li>\n",
       "<li><strong>Sublease Permitted: </strong>\n",
       "                            No</li>\n",
       "<li><strong>Security Deposit: </strong>\n",
       "                            $1400</li>\n",
       "<li><strong>Landlord: </strong>\n",
       "                            S&amp;G Properties</li>\n",
       "</ul>\n",
       "<h2>Property Details</h2>\n",
       "<ul>\n",
       "<li><strong>Property Type: </strong>\n",
       "                            Apartment</li>\n",
       "<li class=\"s-editor\" id=\"ctl00_ContentBody_LiLocationSectorPopup\">\n",
       "<strong><a class=\"js-colorbox\" href=\"LocationSectorMap.aspx\" title=\"Location Sectors\">Location\n",
       "                                Sector:</a></strong> University District: Central</li>\n",
       "<li><strong>Level: </strong>\n",
       "                            Above Ground</li>\n",
       "<li><strong>City: </strong>\n",
       "                            Columbus, OH</li>\n",
       "<li><strong>Bedrooms: </strong>\n",
       "                            3</li>\n",
       "<li><strong>Bathrooms: </strong>\n",
       "                            1 full, 0 half</li>\n",
       "<li><strong>Max Occupancy: </strong>\n",
       "                            3</li>\n",
       "<li><strong>Wheel Chair Access: </strong>\n",
       "                            Yes</li>\n",
       "<li><strong>Basement: </strong>\n",
       "                            No</li>\n",
       "<li><strong>Laundry: </strong>\n",
       "                            Laundry facilities in the building</li>\n",
       "</ul>\n",
       "<h2>Parking Information</h2>\n",
       "<ul>\n",
       "<li><strong>Parking: </strong>\n",
       "                            Yes</li>\n",
       "<li><strong>Number of Parking Spaces: </strong>\n",
       "                            27</li>\n",
       "<li><strong>Off-street Parking: </strong>\n",
       "                            Yes</li>\n",
       "<li><strong>Off-street Monthly: </strong>\n",
       "                            n/a</li>\n",
       "<li><strong>Off-street Yearly: </strong>\n",
       "                            $600</li>\n",
       "<li><strong>On-street Parking: </strong>\n",
       "                            Yes</li>\n",
       "<li><strong>On-street Permit Required: </strong>\n",
       "</li>\n",
       "<li><strong>Garage Parking: </strong>\n",
       "                            No</li>\n",
       "<li><strong>Garage Monthly: </strong>\n",
       "                            n/a</li>\n",
       "<li><strong>Garage Yearly: </strong>\n",
       "                            n/a</li>\n",
       "</ul>\n",
       "<h2>Amenities</h2>\n",
       "<ul>\n",
       "<li><strong>Furnished: </strong>\n",
       "                            No</li>\n",
       "<li><strong>Fireplace: </strong>\n",
       "                            No</li>\n",
       "<li><strong>Air Conditioning: </strong>\n",
       "                            Central A/C</li>\n",
       "<li><strong>Dishwasher: </strong>\n",
       "                            Yes</li>\n",
       "<li><strong>Stove: </strong>\n",
       "                            Yes</li>\n",
       "<li><strong>Refrigerator: </strong>\n",
       "                            Yes</li>\n",
       "<li><strong>Security System: </strong>\n",
       "                            No</li>\n",
       "<li><strong>Backyard: </strong>\n",
       "                            No</li>\n",
       "<li><strong>Deck Or Porch: </strong>\n",
       "                            No</li>\n",
       "<li><strong>Other Amenities: </strong>\n",
       "                            Awesome and secure modern building in the center of campus.\n",
       "3 bedrooms, living room, kitchen, extra den...\n",
       "Call for showing.</li>\n",
       "</ul>\n",
       "<h2>Pet Information</h2>\n",
       "<ul>\n",
       "<li><strong>Pet Deposit: </strong>\n",
       "                            $0</li>\n",
       "<li><strong>Additional Pet Rent: </strong>\n",
       "                            $0</li>\n",
       "<li><strong>Additional Dog Rent: </strong>\n",
       "                            $0</li>\n",
       "<li><strong>Additional Cat Rent: </strong>\n",
       "                            $0</li>\n",
       "<li><strong>Pets Allowed: </strong>\n",
       "                            No</li>\n",
       "<li><strong>Dogs Allowed: </strong>\n",
       "                            No</li>\n",
       "<li><strong>Cats Allowed: </strong>\n",
       "                            No</li>\n",
       "<li><strong>Pet Deposit Refundable: </strong>\n",
       "                            No</li>\n",
       "</ul>\n",
       "<h2>Utilities</h2>\n",
       "<ul>\n",
       "<li><strong>Water Included: </strong>\n",
       "                            No</li>\n",
       "<li><strong>Electric Included: </strong>\n",
       "                            No</li>\n",
       "<li><strong>Gas Included: </strong>\n",
       "                            No</li>\n",
       "</ul>\n",
       "<h2>Comments</h2>\n",
       "<p>TEXT to SHOW 614-395-1993\n",
       "Big...big....3 bedroom....half a block off of High street behind McDonalds.  Best central location and price.  Laundry room on site.\n",
       "Two versions available....Easy to set up tours.\n",
       "Call 614-273-7775</p>\n",
       "</div>"
      ]
     },
     "execution_count": 165,
     "metadata": {},
     "output_type": "execute_result"
    }
   ],
   "source": [
    "app"
   ]
  },
  {
   "cell_type": "code",
   "execution_count": null,
   "metadata": {},
   "outputs": [],
   "source": []
  },
  {
   "cell_type": "code",
   "execution_count": 143,
   "metadata": {},
   "outputs": [],
   "source": [
    "for container in appartment_div:\n",
    "    info = container.find_all(\"li\")"
   ]
  },
  {
   "cell_type": "code",
   "execution_count": 238,
   "metadata": {},
   "outputs": [],
   "source": [
    "listings.to_csv('lisitngs.csv')"
   ]
  }
 ],
 "metadata": {
  "kernelspec": {
   "display_name": "Python 3",
   "language": "python",
   "name": "python3"
  },
  "language_info": {
   "codemirror_mode": {
    "name": "ipython",
    "version": 3
   },
   "file_extension": ".py",
   "mimetype": "text/x-python",
   "name": "python",
   "nbconvert_exporter": "python",
   "pygments_lexer": "ipython3",
   "version": "3.8.3"
  }
 },
 "nbformat": 4,
 "nbformat_minor": 4
}
